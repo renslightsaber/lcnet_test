{
 "cells": [
  {
   "cell_type": "code",
   "execution_count": 1,
   "id": "24931c92-3615-4fbb-9f94-da54dfd9d353",
   "metadata": {
    "execution": {
     "iopub.execute_input": "2025-06-04T02:49:28.955501Z",
     "iopub.status.busy": "2025-06-04T02:49:28.955352Z",
     "iopub.status.idle": "2025-06-04T02:49:28.958015Z",
     "shell.execute_reply": "2025-06-04T02:49:28.957672Z",
     "shell.execute_reply.started": "2025-06-04T02:49:28.955483Z"
    }
   },
   "outputs": [],
   "source": [
    "student_id = '2023110214'"
   ]
  },
  {
   "cell_type": "code",
   "execution_count": 2,
   "id": "958e206c-dbed-4af7-8de1-b58c51258b48",
   "metadata": {
    "execution": {
     "iopub.execute_input": "2025-06-04T02:49:28.958561Z",
     "iopub.status.busy": "2025-06-04T02:49:28.958429Z",
     "iopub.status.idle": "2025-06-04T02:49:30.826866Z",
     "shell.execute_reply": "2025-06-04T02:49:30.826401Z",
     "shell.execute_reply.started": "2025-06-04T02:49:28.958546Z"
    },
    "scrolled": true,
    "tags": []
   },
   "outputs": [],
   "source": [
    "from competition_utils import *\n",
    "from training_args import *\n",
    "\n",
    "model_name = f'submission_{student_id}'\n",
    "module_path = f\"models.{model_name}.{model_name}\"\n",
    "module = importlib.import_module(module_path)\n",
    "globals()[model_name] = getattr(module, model_name)\n",
    "\n",
    "Project_Name = 'Competition'\n",
    "model_dir = 'models'\n",
    "output_root = 'output'\n",
    "\n",
    "SAVE_RESULT = True\n",
    "SAVE_N = 1500\n",
    "vis_root = f'vis/TEST_OUTPUTS_{datetime.now().strftime(\"%y%m%d_%H%M%S\")}'\n",
    "\n",
    "Dataset_root = 'Datasets'\n",
    "Dataset_Name_list = [\n",
    "                     # 'VOC',\n",
    "                     'ETIS',\n",
    "                     'CVPPP',\n",
    "                     'CFD',\n",
    "                     'CarDD',\n",
    "]\n",
    "number_of_classes_dict = {'VOC':21,\n",
    "                          'ETIS':2,\n",
    "                          'CVPPP':2,\n",
    "                          'CFD':2,\n",
    "                          'CarDD':2\n",
    "                         }\n",
    "epochs = 30\n",
    "EARLY_STOP = 100\n",
    "batch_size = 16\n",
    "EXCLUDE_BACKGROUND = True\n",
    "BINARY_SEG = None\n",
    "THRESHOLD = 0.5\n",
    "device = \"cuda\" if torch.cuda.is_available() else \"cpu\""
   ]
  },
  {
   "cell_type": "code",
   "execution_count": 3,
   "id": "691908be-458c-416b-8edd-1e07c042414d",
   "metadata": {
    "editable": true,
    "execution": {
     "iopub.execute_input": "2025-06-04T02:49:30.828415Z",
     "iopub.status.busy": "2025-06-04T02:49:30.827856Z",
     "iopub.status.idle": "2025-06-04T02:50:12.758454Z",
     "shell.execute_reply": "2025-06-04T02:50:12.758198Z",
     "shell.execute_reply.started": "2025-06-04T02:49:30.828388Z"
    },
    "slideshow": {
     "slide_type": ""
    },
    "tags": []
   },
   "outputs": [
    {
     "name": "stdout",
     "output_type": "stream",
     "text": [
      "Experiment Start Time: 250604_114930\n",
      "Dataset: ETIS (1/4)\n",
      "train/val/test: 118/39/39\n",
      "submission_2023110214 Dataset: ETIS) (1/4) Training Start Time: 250604_114930\n"
     ]
    },
    {
     "data": {
      "application/json": {
       "ascii": false,
       "bar_format": null,
       "colour": null,
       "elapsed": 0.002627134323120117,
       "initial": 0,
       "n": 0,
       "ncols": null,
       "nrows": 24,
       "postfix": null,
       "prefix": "Training",
       "rate": null,
       "total": 7,
       "unit": "batch",
       "unit_divisor": 1000,
       "unit_scale": false
      },
      "application/vnd.jupyter.widget-view+json": {
       "model_id": "8763363a209a4d8f9dd3d408ca3f2e86",
       "version_major": 2,
       "version_minor": 0
      },
      "text/plain": [
       "Training:   0%|          | 0/7 [00:00<?, ?batch/s]"
      ]
     },
     "metadata": {},
     "output_type": "display_data"
    },
    {
     "data": {
      "application/json": {
       "ascii": false,
       "bar_format": null,
       "colour": null,
       "elapsed": 0.0018901824951171875,
       "initial": 0,
       "n": 0,
       "ncols": null,
       "nrows": 24,
       "postfix": null,
       "prefix": "Valiation",
       "rate": null,
       "total": 3,
       "unit": "batch",
       "unit_divisor": 1000,
       "unit_scale": false
      },
      "application/vnd.jupyter.widget-view+json": {
       "model_id": "0a3ce58195a849b2baf9bebdd93e7285",
       "version_major": 2,
       "version_minor": 0
      },
      "text/plain": [
       "Valiation:   0%|          | 0/3 [00:00<?, ?batch/s]"
      ]
     },
     "metadata": {},
     "output_type": "display_data"
    },
    {
     "name": "stdout",
     "output_type": "stream",
     "text": [
      "1EP(250604_114932): T_Loss: 0.740843 V_Loss: 0.797680 IoU: 0.0000 Best Epoch: 1 Loss: 0.797680\n",
      "Test Start Time: 250604_114932\n"
     ]
    },
    {
     "data": {
      "application/json": {
       "ascii": false,
       "bar_format": null,
       "colour": null,
       "elapsed": 0.001969575881958008,
       "initial": 0,
       "n": 0,
       "ncols": null,
       "nrows": 24,
       "postfix": null,
       "prefix": "Test",
       "rate": null,
       "total": 3,
       "unit": "batch",
       "unit_divisor": 1000,
       "unit_scale": false
      },
      "application/vnd.jupyter.widget-view+json": {
       "model_id": "342ccbac0bc645dc8fd5765bf1123ea8",
       "version_major": 2,
       "version_minor": 0
      },
      "text/plain": [
       "Test:   0%|          | 0/3 [00:00<?, ?batch/s]"
      ]
     },
     "metadata": {},
     "output_type": "display_data"
    },
    {
     "name": "stdout",
     "output_type": "stream",
     "text": [
      "Best Epoch: 1\n",
      "Test(250604_114936): Loss: 0.788811 IoU: 0.0000 Dice: 0.0000 Precision: 0.0000 Recall: 0.0000\n",
      "End 250604_114936\n",
      "Dataset: CVPPP (2/4)\n",
      "train/val/test: 486/162/162\n",
      "submission_2023110214 Dataset: CVPPP) (2/4) Training Start Time: 250604_114936\n"
     ]
    },
    {
     "data": {
      "application/json": {
       "ascii": false,
       "bar_format": null,
       "colour": null,
       "elapsed": 0.0018460750579833984,
       "initial": 0,
       "n": 0,
       "ncols": null,
       "nrows": 24,
       "postfix": null,
       "prefix": "Training",
       "rate": null,
       "total": 30,
       "unit": "batch",
       "unit_divisor": 1000,
       "unit_scale": false
      },
      "application/vnd.jupyter.widget-view+json": {
       "model_id": "c0236c2eee23461bbad295ccc488d0b6",
       "version_major": 2,
       "version_minor": 0
      },
      "text/plain": [
       "Training:   0%|          | 0/30 [00:00<?, ?batch/s]"
      ]
     },
     "metadata": {},
     "output_type": "display_data"
    },
    {
     "data": {
      "application/json": {
       "ascii": false,
       "bar_format": null,
       "colour": null,
       "elapsed": 0.0019419193267822266,
       "initial": 0,
       "n": 0,
       "ncols": null,
       "nrows": 24,
       "postfix": null,
       "prefix": "Valiation",
       "rate": null,
       "total": 11,
       "unit": "batch",
       "unit_divisor": 1000,
       "unit_scale": false
      },
      "application/vnd.jupyter.widget-view+json": {
       "model_id": "7f9bfdd31f5e47e1b3ce742fcfc2e243",
       "version_major": 2,
       "version_minor": 0
      },
      "text/plain": [
       "Valiation:   0%|          | 0/11 [00:00<?, ?batch/s]"
      ]
     },
     "metadata": {},
     "output_type": "display_data"
    },
    {
     "name": "stdout",
     "output_type": "stream",
     "text": [
      "1EP(250604_114939): T_Loss: 0.478647 V_Loss: 0.436056 IoU: 0.7828 Best Epoch: 1 Loss: 0.436056\n",
      "Test Start Time: 250604_114939\n"
     ]
    },
    {
     "data": {
      "application/json": {
       "ascii": false,
       "bar_format": null,
       "colour": null,
       "elapsed": 0.0018782615661621094,
       "initial": 0,
       "n": 0,
       "ncols": null,
       "nrows": 24,
       "postfix": null,
       "prefix": "Test",
       "rate": null,
       "total": 11,
       "unit": "batch",
       "unit_divisor": 1000,
       "unit_scale": false
      },
      "application/vnd.jupyter.widget-view+json": {
       "model_id": "82bc51c1e56640acab65e6e4f491ab2a",
       "version_major": 2,
       "version_minor": 0
      },
      "text/plain": [
       "Test:   0%|          | 0/11 [00:00<?, ?batch/s]"
      ]
     },
     "metadata": {},
     "output_type": "display_data"
    },
    {
     "name": "stdout",
     "output_type": "stream",
     "text": [
      "Best Epoch: 1\n",
      "Test(250604_114956): Loss: 0.437912 IoU: 0.7761 Dice: 0.8622 Precision: 0.7864 Recall: 0.9820\n",
      "End 250604_114956\n",
      "Dataset: CFD (3/4)\n",
      "train/val/test: 70/24/24\n",
      "submission_2023110214 Dataset: CFD) (3/4) Training Start Time: 250604_114957\n"
     ]
    },
    {
     "data": {
      "application/json": {
       "ascii": false,
       "bar_format": null,
       "colour": null,
       "elapsed": 0.0019989013671875,
       "initial": 0,
       "n": 0,
       "ncols": null,
       "nrows": 24,
       "postfix": null,
       "prefix": "Training",
       "rate": null,
       "total": 4,
       "unit": "batch",
       "unit_divisor": 1000,
       "unit_scale": false
      },
      "application/vnd.jupyter.widget-view+json": {
       "model_id": "d0da885fbbe5407d8f77f0a43e019244",
       "version_major": 2,
       "version_minor": 0
      },
      "text/plain": [
       "Training:   0%|          | 0/4 [00:00<?, ?batch/s]"
      ]
     },
     "metadata": {},
     "output_type": "display_data"
    },
    {
     "data": {
      "application/json": {
       "ascii": false,
       "bar_format": null,
       "colour": null,
       "elapsed": 0.002027273178100586,
       "initial": 0,
       "n": 0,
       "ncols": null,
       "nrows": 24,
       "postfix": null,
       "prefix": "Valiation",
       "rate": null,
       "total": 2,
       "unit": "batch",
       "unit_divisor": 1000,
       "unit_scale": false
      },
      "application/vnd.jupyter.widget-view+json": {
       "model_id": "31091ffb9b9d4b13be9f8441621cfcd9",
       "version_major": 2,
       "version_minor": 0
      },
      "text/plain": [
       "Valiation:   0%|          | 0/2 [00:00<?, ?batch/s]"
      ]
     },
     "metadata": {},
     "output_type": "display_data"
    },
    {
     "name": "stdout",
     "output_type": "stream",
     "text": [
      "1EP(250604_114957): T_Loss: 0.777937 V_Loss: 0.815005 IoU: 0.0000 Best Epoch: 1 Loss: 0.815005\n",
      "Test Start Time: 250604_114957\n"
     ]
    },
    {
     "data": {
      "application/json": {
       "ascii": false,
       "bar_format": null,
       "colour": null,
       "elapsed": 0.0023124217987060547,
       "initial": 0,
       "n": 0,
       "ncols": null,
       "nrows": 24,
       "postfix": null,
       "prefix": "Test",
       "rate": null,
       "total": 2,
       "unit": "batch",
       "unit_divisor": 1000,
       "unit_scale": false
      },
      "application/vnd.jupyter.widget-view+json": {
       "model_id": "18fe8a0b078041b69b03eb5049aa6a4a",
       "version_major": 2,
       "version_minor": 0
      },
      "text/plain": [
       "Test:   0%|          | 0/2 [00:00<?, ?batch/s]"
      ]
     },
     "metadata": {},
     "output_type": "display_data"
    },
    {
     "name": "stdout",
     "output_type": "stream",
     "text": [
      "Best Epoch: 1\n",
      "Test(250604_115000): Loss: 0.811715 IoU: 0.0000 Dice: 0.0000 Precision: 0.0000 Recall: 0.0000\n",
      "End 250604_115000\n",
      "Dataset: CarDD (4/4)\n",
      "train/val/test: 310/104/104\n",
      "submission_2023110214 Dataset: CarDD) (4/4) Training Start Time: 250604_115000\n"
     ]
    },
    {
     "data": {
      "application/json": {
       "ascii": false,
       "bar_format": null,
       "colour": null,
       "elapsed": 0.0019843578338623047,
       "initial": 0,
       "n": 0,
       "ncols": null,
       "nrows": 24,
       "postfix": null,
       "prefix": "Training",
       "rate": null,
       "total": 19,
       "unit": "batch",
       "unit_divisor": 1000,
       "unit_scale": false
      },
      "application/vnd.jupyter.widget-view+json": {
       "model_id": "34a9355c2e134a1a9cbe017088baefeb",
       "version_major": 2,
       "version_minor": 0
      },
      "text/plain": [
       "Training:   0%|          | 0/19 [00:00<?, ?batch/s]"
      ]
     },
     "metadata": {},
     "output_type": "display_data"
    },
    {
     "data": {
      "application/json": {
       "ascii": false,
       "bar_format": null,
       "colour": null,
       "elapsed": 0.0019791126251220703,
       "initial": 0,
       "n": 0,
       "ncols": null,
       "nrows": 24,
       "postfix": null,
       "prefix": "Valiation",
       "rate": null,
       "total": 7,
       "unit": "batch",
       "unit_divisor": 1000,
       "unit_scale": false
      },
      "application/vnd.jupyter.widget-view+json": {
       "model_id": "917884800e98418d9717dfab3d09936b",
       "version_major": 2,
       "version_minor": 0
      },
      "text/plain": [
       "Valiation:   0%|          | 0/7 [00:00<?, ?batch/s]"
      ]
     },
     "metadata": {},
     "output_type": "display_data"
    },
    {
     "name": "stdout",
     "output_type": "stream",
     "text": [
      "1EP(250604_115002): T_Loss: 0.653369 V_Loss: 0.661617 IoU: 0.0497 Best Epoch: 1 Loss: 0.661617\n",
      "Test Start Time: 250604_115002\n"
     ]
    },
    {
     "data": {
      "application/json": {
       "ascii": false,
       "bar_format": null,
       "colour": null,
       "elapsed": 0.0022842884063720703,
       "initial": 0,
       "n": 0,
       "ncols": null,
       "nrows": 24,
       "postfix": null,
       "prefix": "Test",
       "rate": null,
       "total": 7,
       "unit": "batch",
       "unit_divisor": 1000,
       "unit_scale": false
      },
      "application/vnd.jupyter.widget-view+json": {
       "model_id": "a242ecdc5b3b4f1dbad763e6ef922d10",
       "version_major": 2,
       "version_minor": 0
      },
      "text/plain": [
       "Test:   0%|          | 0/7 [00:00<?, ?batch/s]"
      ]
     },
     "metadata": {},
     "output_type": "display_data"
    },
    {
     "name": "stdout",
     "output_type": "stream",
     "text": [
      "Best Epoch: 1\n",
      "Test(250604_115012): Loss: 0.659709 IoU: 0.0614 Dice: 0.1029 Precision: 0.1041 Recall: 0.1650\n",
      "End 250604_115012\n"
     ]
    }
   ],
   "source": [
    "now = datetime.now()\n",
    "Experiments_Time=now.strftime(\"%y%m%d_%H%M%S\")\n",
    "print('Experiment Start Time:',Experiments_Time)\n",
    "eval_columns=['Experiment Time','Train Time', 'Dataset Name', 'Model Name', 'Val Loss', 'Test Loss', 'IoU', 'Dice',  'Precision', 'Recall', 'Total Params','Train-Predction Time']\n",
    "df = pd.DataFrame(index=None, columns=eval_columns)\n",
    "output_root = f'{output_root}/output_{Experiments_Time}'\n",
    "os.makedirs(output_root, exist_ok = True)\n",
    "seed = iteration = 1\n",
    "for j, Dataset_Name in enumerate(Dataset_Name_list):\n",
    "    print(f'Dataset: {Dataset_Name} ({j+1}/{len(Dataset_Name_list)})')\n",
    "    control_random_seed(seed)\n",
    "    Dataset_dir = Dataset_root+'/'+Dataset_Name\n",
    "    Height, Width = (256, 256)\n",
    "    in_channels = 3\n",
    "    number_of_classes = number_of_classes_dict[Dataset_Name]\n",
    "    BINARY_SEG = True if number_of_classes==2 else False\n",
    "    exclude_background = EXCLUDE_BACKGROUND\n",
    "    out_channels = 1 if BINARY_SEG else number_of_classes\n",
    "\n",
    "    train_image_path_list = natsort.natsorted(glob.glob(f\"{Dataset_dir}/train/Originals/*\"))\n",
    "    train_target_path_list = natsort.natsorted(glob.glob(f\"{Dataset_dir}/train/Masks/*\"))\n",
    "    validation_image_path_list = natsort.natsorted(glob.glob(f\"{Dataset_dir}/val/Originals/*\"))\n",
    "    validation_target_path_list = natsort.natsorted(glob.glob(f\"{Dataset_dir}/val/Masks/*\"))\n",
    "    test_image_path_list = natsort.natsorted(glob.glob(f\"{Dataset_dir}/test/Originals/*\"))\n",
    "    test_target_path_list = natsort.natsorted(glob.glob(f\"{Dataset_dir}/test/Masks/*\"))\n",
    "    print(f'train/val/test: {len(train_image_path_list)}/{len(validation_image_path_list)}/{len(test_image_path_list)}')\n",
    "\n",
    "    # train_dataset = ImagesDataset(train_image_path_list, train_target_path_list, augment=False)\n",
    "    train_dataset = ImagesDataset(train_image_path_list, train_target_path_list)\n",
    "    validation_dataset = ImagesDataset(validation_image_path_list, validation_target_path_list)\n",
    "    test_dataset = ImagesDataset(test_image_path_list, test_target_path_list)\n",
    "    train_loader = SegDataLoader(\n",
    "    train_dataset, batch_size=batch_size,\n",
    "    num_workers=4, pin_memory=True, shuffle=True, drop_last=True, fill_last_batch=False,\n",
    "    )\n",
    "    validation_loader = SegDataLoader(\n",
    "        validation_dataset, batch_size=batch_size, \n",
    "        num_workers=4, pin_memory=True,\n",
    "    )\n",
    "    test_loader = SegDataLoader(\n",
    "        test_dataset, batch_size=batch_size, \n",
    "        num_workers=4, pin_memory=True,\n",
    "    )\n",
    "\n",
    "    print(f'{model_name}', end=' ')\n",
    "    print(f'Dataset: {Dataset_Name}) ({j+1}/{len(Dataset_Name_list)})', end=' ')\n",
    "    output_dir = output_root + f'/{model_name}_{Dataset_Name}'\n",
    "    control_random_seed(seed)\n",
    "    model=globals()[model_name](in_channels, out_channels)\n",
    "    model = model.to(device)\n",
    "    optimizer = Make_Optimizer(model)\n",
    "    lr_scheduler = Make_LR_Scheduler(optimizer)\n",
    "    criterion = Make_Loss_Function(number_of_classes)\n",
    "    if SAVE_RESULT==True:\n",
    "        os.makedirs(vis_root+f\"/{Dataset_Name}\", exist_ok=True)\n",
    "    df = Execute_Experiment(model_name, model, Dataset_Name, train_loader, validation_loader, test_loader, \n",
    "                            optimizer, lr_scheduler, criterion, number_of_classes, df, epochs, device, output_dir,\n",
    "                           BINARY_SEG, exclude_background, out_channels, seed, THRESHOLD, EARLY_STOP, SAVE_RESULT, vis_root+f\"/{Dataset_Name}\", Experiments_Time\n",
    "                           )\n",
    "    df.to_csv(output_root+'/'+f'{Project_Name}_'+Experiments_Time+'.csv', index=False, header=True, encoding=\"cp949\")"
   ]
  },
  {
   "cell_type": "code",
   "execution_count": null,
   "id": "10534c23-7bc7-49bc-9ad3-404f48d29707",
   "metadata": {},
   "outputs": [],
   "source": []
  }
 ],
 "metadata": {
  "kernelspec": {
   "display_name": "ComputerVision",
   "language": "python",
   "name": "computervision"
  },
  "language_info": {
   "codemirror_mode": {
    "name": "ipython",
    "version": 3
   },
   "file_extension": ".py",
   "mimetype": "text/x-python",
   "name": "python",
   "nbconvert_exporter": "python",
   "pygments_lexer": "ipython3",
   "version": "3.10.16"
  }
 },
 "nbformat": 4,
 "nbformat_minor": 5
}
