{
 "cells": [
  {
   "cell_type": "code",
   "execution_count": 1,
   "id": "fbdee1d2-8509-4d03-b5d1-a8c004cef082",
   "metadata": {
    "execution": {
     "iopub.execute_input": "2025-05-27T22:15:54.658827Z",
     "iopub.status.busy": "2025-05-27T22:15:54.658763Z",
     "iopub.status.idle": "2025-05-27T22:15:54.660167Z",
     "shell.execute_reply": "2025-05-27T22:15:54.660006Z",
     "shell.execute_reply.started": "2025-05-27T22:15:54.658820Z"
    },
    "scrolled": true
   },
   "outputs": [],
   "source": [
    "student_id = '2023110214'"
   ]
  },
  {
   "cell_type": "code",
   "execution_count": 3,
   "id": "4b6ff7b6-679c-4533-8eff-753f6418dd8f",
   "metadata": {
    "execution": {
     "iopub.execute_input": "2025-05-27T22:16:09.178879Z",
     "iopub.status.busy": "2025-05-27T22:16:09.178591Z",
     "iopub.status.idle": "2025-05-27T22:16:18.171886Z",
     "shell.execute_reply": "2025-05-27T22:16:18.170912Z",
     "shell.execute_reply.started": "2025-05-27T22:16:09.178858Z"
    }
   },
   "outputs": [
    {
     "name": "stdout",
     "output_type": "stream",
     "text": [
      "Testing with number of classes = 1\n",
      "Train mode: The test has passed (output.shape=torch.Size([16, 1, 256, 256]))\n",
      "Eval mode: The test has passed (output.shape=torch.Size([16, 1, 256, 256]))\n",
      "Testing with number of classes = 2\n",
      "Train mode: The test has passed (output.shape=torch.Size([16, 2, 256, 256]))\n",
      "Eval mode: The test has passed (output.shape=torch.Size([16, 2, 256, 256]))\n",
      "Testing with number of classes = 4\n",
      "Train mode: The test has passed (output.shape=torch.Size([16, 4, 256, 256]))\n",
      "Eval mode: The test has passed (output.shape=torch.Size([16, 4, 256, 256]))\n",
      "Testing with number of classes = 8\n",
      "Train mode: The test has passed (output.shape=torch.Size([16, 8, 256, 256]))\n",
      "Eval mode: The test has passed (output.shape=torch.Size([16, 8, 256, 256]))\n",
      "Testing with number of classes = 20\n",
      "Train mode: The test has passed (output.shape=torch.Size([16, 20, 256, 256]))\n",
      "Eval mode: The test has passed (output.shape=torch.Size([16, 20, 256, 256]))\n",
      "Testing with number of classes = 21\n",
      "Train mode: The test has passed (output.shape=torch.Size([16, 21, 256, 256]))\n",
      "Eval mode: The test has passed (output.shape=torch.Size([16, 21, 256, 256]))\n"
     ]
    }
   ],
   "source": [
    "import torch\n",
    "\n",
    "model_name = f'submission_{student_id}'\n",
    "module_path = f\"models.{model_name}.{model_name}\"\n",
    "\n",
    "import importlib\n",
    "module = importlib.import_module(module_path)\n",
    "globals()[model_name] = getattr(module, model_name)\n",
    "\n",
    "num_classes_list = [1, 2, 4, 8, 20, 21]  # 여러 개의 number of classes를 테스트\n",
    "\n",
    "for n in num_classes_list:\n",
    "    model = globals()[model_name](in_channels=3, num_classes=n)\n",
    "    print(f\"Testing with number of classes = {n}\")\n",
    "    model.train()\n",
    "    output = model(torch.rand((16, 3, 256, 256)))\n",
    "    expected_shape = (16, n, 256, 256)\n",
    "    if output.shape == expected_shape:\n",
    "        print(f\"Train mode: The test has passed (output.shape={output.shape})\")\n",
    "    else:\n",
    "        print(f\"Train mode: The test has failed (output.shape={output.shape}, expected={expected_shape})\")\n",
    "\n",
    "    model.eval()\n",
    "    output = model(torch.rand((16, 3, 256, 256)))\n",
    "    if output.shape == expected_shape:\n",
    "        print(f\"Eval mode: The test has passed (output.shape={output.shape})\")\n",
    "    else:\n",
    "        print(f\"Eval mode: The test has failed (output.shape={output.shape}, expected={expected_shape})\")"
   ]
  },
  {
   "cell_type": "code",
   "execution_count": null,
   "id": "5c0081ca-d2a0-4db2-875f-2393817b99b1",
   "metadata": {},
   "outputs": [],
   "source": []
  }
 ],
 "metadata": {
  "kernelspec": {
   "display_name": "ComputerVision",
   "language": "python",
   "name": "computervision"
  },
  "language_info": {
   "codemirror_mode": {
    "name": "ipython",
    "version": 3
   },
   "file_extension": ".py",
   "mimetype": "text/x-python",
   "name": "python",
   "nbconvert_exporter": "python",
   "pygments_lexer": "ipython3",
   "version": "3.10.16"
  }
 },
 "nbformat": 4,
 "nbformat_minor": 5
}
